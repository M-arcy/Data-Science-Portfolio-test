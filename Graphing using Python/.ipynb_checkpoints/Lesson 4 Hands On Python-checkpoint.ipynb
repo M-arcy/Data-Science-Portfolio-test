{
 "cells": [
  {
   "cell_type": "markdown",
   "id": "4d77d4ab",
   "metadata": {},
   "source": [
    "# Lesson 4 Hands On in Python"
   ]
  },
  {
   "cell_type": "markdown",
   "id": "62519c4d",
   "metadata": {},
   "source": [
    "Part 1\n",
    "Here's a listing of the number of power boats registered in Florida (in the 1000's) for each year, 35 years worth of data. Tinker with the settings until you have created a histogram with 7 bars."
   ]
  },
  {
   "cell_type": "markdown",
   "id": "232bb482",
   "metadata": {},
   "source": [
    "### Part 1 - show histogram with 7 bars"
   ]
  },
  {
   "cell_type": "code",
   "execution_count": 1,
   "id": "dc6009b7",
   "metadata": {},
   "outputs": [],
   "source": [
    "import matplotlib.mlab as mlab\n",
    "import matplotlib.pyplot as plt\n",
    "import pandas as pd\n",
    "boats = pd.read_csv(\"L3P1.csv\")"
   ]
  },
  {
   "cell_type": "code",
   "execution_count": 2,
   "id": "3bc7277d",
   "metadata": {},
   "outputs": [
    {
     "data": {
      "text/html": [
       "<div>\n",
       "<style scoped>\n",
       "    .dataframe tbody tr th:only-of-type {\n",
       "        vertical-align: middle;\n",
       "    }\n",
       "\n",
       "    .dataframe tbody tr th {\n",
       "        vertical-align: top;\n",
       "    }\n",
       "\n",
       "    .dataframe thead th {\n",
       "        text-align: right;\n",
       "    }\n",
       "</style>\n",
       "<table border=\"1\" class=\"dataframe\">\n",
       "  <thead>\n",
       "    <tr style=\"text-align: right;\">\n",
       "      <th></th>\n",
       "      <th>Power Boats (in 1000's)</th>\n",
       "    </tr>\n",
       "  </thead>\n",
       "  <tbody>\n",
       "    <tr>\n",
       "      <th>0</th>\n",
       "      <td>436</td>\n",
       "    </tr>\n",
       "    <tr>\n",
       "      <th>1</th>\n",
       "      <td>449</td>\n",
       "    </tr>\n",
       "    <tr>\n",
       "      <th>2</th>\n",
       "      <td>470</td>\n",
       "    </tr>\n",
       "    <tr>\n",
       "      <th>3</th>\n",
       "      <td>487</td>\n",
       "    </tr>\n",
       "    <tr>\n",
       "      <th>4</th>\n",
       "      <td>502</td>\n",
       "    </tr>\n",
       "  </tbody>\n",
       "</table>\n",
       "</div>"
      ],
      "text/plain": [
       "   Power Boats (in 1000's)\n",
       "0                      436\n",
       "1                      449\n",
       "2                      470\n",
       "3                      487\n",
       "4                      502"
      ]
     },
     "execution_count": 2,
     "metadata": {},
     "output_type": "execute_result"
    }
   ],
   "source": [
    "boats.head()"
   ]
  },
  {
   "cell_type": "code",
   "execution_count": 3,
   "id": "66b43af2",
   "metadata": {},
   "outputs": [
    {
     "data": {
      "text/plain": [
       "array([[<AxesSubplot:title={'center':\"Power Boats (in 1000's)\"}>]],\n",
       "      dtype=object)"
      ]
     },
     "execution_count": 3,
     "metadata": {},
     "output_type": "execute_result"
    },
    {
     "data": {
      "image/png": "[encoded data removed]",
      "text/plain": [
       "<Figure size 432x288 with 1 Axes>"
      ]
     },
     "metadata": {
      "needs_background": "light"
     },
     "output_type": "display_data"
    }
   ],
   "source": [
    "boats.hist() #Here's one way to run a histogram, but it doesn't have 7 bars\n"
   ]
  },
  {
   "cell_type": "markdown",
   "id": "d7ce9ff2",
   "metadata": {},
   "source": [
    "### Here's what the lesson says to do:"
   ]
  },
  {
   "cell_type": "code",
   "execution_count": 4,
   "id": "b595dbd8",
   "metadata": {},
   "outputs": [
    {
     "data": {
      "image/png": "[encoded data removed]",
      "text/plain": [
       "<Figure size 432x288 with 1 Axes>"
      ]
     },
     "metadata": {
      "needs_background": "light"
     },
     "output_type": "display_data"
    }
   ],
   "source": [
    "num_bins = 7\n",
    "n, bins, patches = plt.hist(boats, num_bins, facecolor = 'red', alpha = 1)\n",
    "plt.xlabel('Number of Boats in thousands')\n",
    "plt.ylabel('Time')\n",
    "plt. show()"
   ]
  },
  {
   "cell_type": "markdown",
   "id": "feda36a0",
   "metadata": {},
   "source": [
    "### Part 2 create a bar graph"
   ]
  },
  {
   "cell_type": "code",
   "execution_count": 5,
   "id": "19e1ecbb",
   "metadata": {},
   "outputs": [],
   "source": [
    "cars = pd.read_csv('L3P2.csv')"
   ]
  },
  {
   "cell_type": "code",
   "execution_count": 6,
   "id": "291b89f5",
   "metadata": {},
   "outputs": [
    {
     "data": {
      "text/html": [
       "<div>\n",
       "<style scoped>\n",
       "    .dataframe tbody tr th:only-of-type {\n",
       "        vertical-align: middle;\n",
       "    }\n",
       "\n",
       "    .dataframe tbody tr th {\n",
       "        vertical-align: top;\n",
       "    }\n",
       "\n",
       "    .dataframe thead th {\n",
       "        text-align: right;\n",
       "    }\n",
       "</style>\n",
       "<table border=\"1\" class=\"dataframe\">\n",
       "  <thead>\n",
       "    <tr style=\"text-align: right;\">\n",
       "      <th></th>\n",
       "      <th>Cars</th>\n",
       "    </tr>\n",
       "  </thead>\n",
       "  <tbody>\n",
       "    <tr>\n",
       "      <th>0</th>\n",
       "      <td>Mitsubishi</td>\n",
       "    </tr>\n",
       "    <tr>\n",
       "      <th>1</th>\n",
       "      <td>Mitsubishi</td>\n",
       "    </tr>\n",
       "    <tr>\n",
       "      <th>2</th>\n",
       "      <td>Dodge</td>\n",
       "    </tr>\n",
       "    <tr>\n",
       "      <th>3</th>\n",
       "      <td>Mitsubishi</td>\n",
       "    </tr>\n",
       "    <tr>\n",
       "      <th>4</th>\n",
       "      <td>Dodge</td>\n",
       "    </tr>\n",
       "  </tbody>\n",
       "</table>\n",
       "</div>"
      ],
      "text/plain": [
       "         Cars\n",
       "0  Mitsubishi\n",
       "1  Mitsubishi\n",
       "2       Dodge\n",
       "3  Mitsubishi\n",
       "4       Dodge"
      ]
     },
     "execution_count": 6,
     "metadata": {},
     "output_type": "execute_result"
    }
   ],
   "source": [
    "cars.head()"
   ]
  },
  {
   "cell_type": "code",
   "execution_count": 7,
   "id": "7270ad83",
   "metadata": {},
   "outputs": [
    {
     "data": {
      "text/plain": [
       "Cars      \n",
       "Jaguar        27\n",
       "Dodge         18\n",
       "Ford          17\n",
       "Mitsubishi    15\n",
       "Datsun         9\n",
       "dtype: int64"
      ]
     },
     "execution_count": 7,
     "metadata": {},
     "output_type": "execute_result"
    }
   ],
   "source": [
    "cars.value_counts()"
   ]
  },
  {
   "cell_type": "code",
   "execution_count": 8,
   "id": "90abb049",
   "metadata": {},
   "outputs": [
    {
     "data": {
      "text/plain": [
       "Text(0.5, 1.0, 'Dandelion Dream Car Inventory')"
      ]
     },
     "execution_count": 8,
     "metadata": {},
     "output_type": "execute_result"
    },
    {
     "data": {
      "image/png": "[encoded data removed]",
      "text/plain": [
       "<Figure size 432x288 with 1 Axes>"
      ]
     },
     "metadata": {
      "needs_background": "light"
     },
     "output_type": "display_data"
    }
   ],
   "source": [
    "carfreq = cars.value_counts().plot(kind='bar')\n",
    "carfreq.set_xlabel('Models')\n",
    "carfreq.set_ylabel('Number of Cars')\n",
    "carfreq.set_title('Dandelion Dream Car Inventory')"
   ]
  },
  {
   "cell_type": "markdown",
   "id": "19a5b009",
   "metadata": {},
   "source": [
    "### Part 3 Make a stacked bar chart"
   ]
  },
  {
   "cell_type": "code",
   "execution_count": 9,
   "id": "46a3246f",
   "metadata": {},
   "outputs": [
    {
     "data": {
      "text/plain": [
       "<AxesSubplot:xlabel='Car'>"
      ]
     },
     "execution_count": 9,
     "metadata": {},
     "output_type": "execute_result"
    },
    {
     "data": {
      "image/png": "[encoded data removed]",
      "text/plain": [
       "<Figure size 432x288 with 1 Axes>"
      ]
     },
     "metadata": {
      "needs_background": "light"
     },
     "output_type": "display_data"
    }
   ],
   "source": [
    "carLoc = pd.read_csv('L3Part3.csv')\n",
    "crosstab_df = pd.crosstab(carLoc ['Car'], carLoc['Location'])\n",
    "crosstab_df.plot.bar(stacked = True)"
   ]
  },
  {
   "cell_type": "markdown",
   "id": "0acff687",
   "metadata": {},
   "source": [
    "### Part 4 Scatter plot of crocs"
   ]
  },
  {
   "cell_type": "code",
   "execution_count": 10,
   "id": "84c0f460",
   "metadata": {},
   "outputs": [],
   "source": [
    "crocs = pd.read_csv('crocodiles.csv')"
   ]
  },
  {
   "cell_type": "code",
   "execution_count": 11,
   "id": "9f4d1805",
   "metadata": {},
   "outputs": [
    {
     "data": {
      "text/html": [
       "<div>\n",
       "<style scoped>\n",
       "    .dataframe tbody tr th:only-of-type {\n",
       "        vertical-align: middle;\n",
       "    }\n",
       "\n",
       "    .dataframe tbody tr th {\n",
       "        vertical-align: top;\n",
       "    }\n",
       "\n",
       "    .dataframe thead th {\n",
       "        text-align: right;\n",
       "    }\n",
       "</style>\n",
       "<table border=\"1\" class=\"dataframe\">\n",
       "  <thead>\n",
       "    <tr style=\"text-align: right;\">\n",
       "      <th></th>\n",
       "      <th>CommonName</th>\n",
       "      <th>HeadLength</th>\n",
       "      <th>BodyLength</th>\n",
       "    </tr>\n",
       "  </thead>\n",
       "  <tbody>\n",
       "    <tr>\n",
       "      <th>0</th>\n",
       "      <td>Estuarine Crocodile</td>\n",
       "      <td>24</td>\n",
       "      <td>161</td>\n",
       "    </tr>\n",
       "    <tr>\n",
       "      <th>1</th>\n",
       "      <td>Estuarine Crocodile</td>\n",
       "      <td>24</td>\n",
       "      <td>179</td>\n",
       "    </tr>\n",
       "    <tr>\n",
       "      <th>2</th>\n",
       "      <td>Estuarine Crocodile</td>\n",
       "      <td>32</td>\n",
       "      <td>226</td>\n",
       "    </tr>\n",
       "    <tr>\n",
       "      <th>3</th>\n",
       "      <td>Estuarine Crocodile</td>\n",
       "      <td>35</td>\n",
       "      <td>259</td>\n",
       "    </tr>\n",
       "    <tr>\n",
       "      <th>4</th>\n",
       "      <td>Estuarine Crocodile</td>\n",
       "      <td>40</td>\n",
       "      <td>287</td>\n",
       "    </tr>\n",
       "  </tbody>\n",
       "</table>\n",
       "</div>"
      ],
      "text/plain": [
       "            CommonName  HeadLength  BodyLength\n",
       "0  Estuarine Crocodile          24         161\n",
       "1  Estuarine Crocodile          24         179\n",
       "2  Estuarine Crocodile          32         226\n",
       "3  Estuarine Crocodile          35         259\n",
       "4  Estuarine Crocodile          40         287"
      ]
     },
     "execution_count": 11,
     "metadata": {},
     "output_type": "execute_result"
    }
   ],
   "source": [
    "crocs.head()"
   ]
  },
  {
   "cell_type": "code",
   "execution_count": 12,
   "id": "53434e41",
   "metadata": {},
   "outputs": [
    {
     "data": {
      "text/plain": [
       "Text(0, 0.5, 'Body Length')"
      ]
     },
     "execution_count": 12,
     "metadata": {},
     "output_type": "execute_result"
    },
    {
     "data": {
      "image/png": "[encoded data removed]",
      "text/plain": [
       "<Figure size 432x288 with 1 Axes>"
      ]
     },
     "metadata": {
      "needs_background": "light"
     },
     "output_type": "display_data"
    }
   ],
   "source": [
    "crocplot = crocs.plot.scatter(x = 'HeadLength', y= 'BodyLength')\n",
    "crocplot.set_title ('Relationship of Head length to Body length in Crocodiles')\n",
    "crocplot.set_xlabel ('Head Length')\n",
    "crocplot.set_ylabel ('Body Length')"
   ]
  },
  {
   "cell_type": "markdown",
   "id": "b40498ba",
   "metadata": {},
   "source": [
    "### Part 5 - Line chart with heart attacks"
   ]
  },
  {
   "cell_type": "code",
   "execution_count": 13,
   "id": "2c0ad691",
   "metadata": {},
   "outputs": [],
   "source": [
    "hearts = pd.read_csv('L6handson.csv')"
   ]
  },
  {
   "cell_type": "code",
   "execution_count": 14,
   "id": "1353566e",
   "metadata": {},
   "outputs": [
    {
     "data": {
      "text/html": [
       "<div>\n",
       "<style scoped>\n",
       "    .dataframe tbody tr th:only-of-type {\n",
       "        vertical-align: middle;\n",
       "    }\n",
       "\n",
       "    .dataframe tbody tr th {\n",
       "        vertical-align: top;\n",
       "    }\n",
       "\n",
       "    .dataframe thead th {\n",
       "        text-align: right;\n",
       "    }\n",
       "</style>\n",
       "<table border=\"1\" class=\"dataframe\">\n",
       "  <thead>\n",
       "    <tr style=\"text-align: right;\">\n",
       "      <th></th>\n",
       "      <th>Month</th>\n",
       "      <th>Day</th>\n",
       "      <th>Year</th>\n",
       "      <th>Heart Attacks</th>\n",
       "    </tr>\n",
       "  </thead>\n",
       "  <tbody>\n",
       "    <tr>\n",
       "      <th>0</th>\n",
       "      <td>May</td>\n",
       "      <td>1,</td>\n",
       "      <td>2003</td>\n",
       "      <td>12</td>\n",
       "    </tr>\n",
       "    <tr>\n",
       "      <th>1</th>\n",
       "      <td>May</td>\n",
       "      <td>2,</td>\n",
       "      <td>2003</td>\n",
       "      <td>12</td>\n",
       "    </tr>\n",
       "    <tr>\n",
       "      <th>2</th>\n",
       "      <td>May</td>\n",
       "      <td>3,</td>\n",
       "      <td>2003</td>\n",
       "      <td>6</td>\n",
       "    </tr>\n",
       "    <tr>\n",
       "      <th>3</th>\n",
       "      <td>May</td>\n",
       "      <td>4,</td>\n",
       "      <td>2003</td>\n",
       "      <td>16</td>\n",
       "    </tr>\n",
       "    <tr>\n",
       "      <th>4</th>\n",
       "      <td>May</td>\n",
       "      <td>5,</td>\n",
       "      <td>2003</td>\n",
       "      <td>13</td>\n",
       "    </tr>\n",
       "  </tbody>\n",
       "</table>\n",
       "</div>"
      ],
      "text/plain": [
       "  Month Day  Year  Heart Attacks\n",
       "0   May  1,  2003             12\n",
       "1   May  2,  2003             12\n",
       "2   May  3,  2003              6\n",
       "3   May  4,  2003             16\n",
       "4   May  5,  2003             13"
      ]
     },
     "execution_count": 14,
     "metadata": {},
     "output_type": "execute_result"
    }
   ],
   "source": [
    "hearts.head()"
   ]
  },
  {
   "cell_type": "code",
   "execution_count": 15,
   "id": "2dbae801",
   "metadata": {},
   "outputs": [],
   "source": [
    "hearts['Date'] = hearts['Month'].astype(str) + \" \" + hearts['Day'].astype(str) + \" \" +hearts['Year'].astype(str)"
   ]
  },
  {
   "cell_type": "code",
   "execution_count": 16,
   "id": "a22eced6",
   "metadata": {
    "scrolled": true
   },
   "outputs": [
    {
     "data": {
      "image/png": "[encoded data removed]",
      "text/plain": [
       "<Figure size 432x288 with 1 Axes>"
      ]
     },
     "metadata": {
      "needs_background": "light"
     },
     "output_type": "display_data"
    }
   ],
   "source": [
    "plt.plot(hearts['Date'], hearts['Heart Attacks'])\n",
    "plt.xticks([0, 15, 30, 45, 60, 75, 90], ['May 1,', 'May 16', 'May 31', 'June 1', 'June 3', 'July 1', 'July 3'], rotation=25)\n",
    "plt.xlabel('Date')\n",
    "plt.ylabel(\"Number of Heart Attacks\")\n",
    "plt.title('Heart Attacks over a 3-month period')\n",
    "plt.show()"
   ]
  },
  {
   "cell_type": "markdown",
   "id": "2a69ffb1",
   "metadata": {},
   "source": [
    "# Playing around with date time formats. Not part of assignment. "
   ]
  },
  {
   "cell_type": "code",
   "execution_count": 17,
   "id": "3f1a7ff5",
   "metadata": {},
   "outputs": [],
   "source": [
    "hearts['Date'] = pd.to_datetime(hearts['Date'])"
   ]
  },
  {
   "cell_type": "code",
   "execution_count": 22,
   "id": "9f90507e",
   "metadata": {},
   "outputs": [],
   "source": [
    "hearts[\"DayOfWeek\"] = hearts['Date'].dt.dayofweek"
   ]
  },
  {
   "cell_type": "code",
   "execution_count": 23,
   "id": "2408d6d2",
   "metadata": {},
   "outputs": [],
   "source": [
    "hearts[\"day\"] = hearts['Date'].dt.day"
   ]
  },
  {
   "cell_type": "code",
   "execution_count": 24,
   "id": "85039253",
   "metadata": {},
   "outputs": [
    {
     "name": "stderr",
     "output_type": "stream",
     "text": [
      "<ipython-input-24-1834e77e5b94>:1: FutureWarning: Series.dt.weekofyear and Series.dt.week have been deprecated.  Please use Series.dt.isocalendar().week instead.\n",
      "  hearts[\"week\"] = hearts['Date'].dt.week\n"
     ]
    }
   ],
   "source": [
    "hearts[\"week\"] = hearts['Date'].dt.week"
   ]
  },
  {
   "cell_type": "code",
   "execution_count": 25,
   "id": "2075edc6",
   "metadata": {},
   "outputs": [],
   "source": [
    "hearts[\"leapyear\"] = hearts['Date'].dt.is_leap_year"
   ]
  },
  {
   "cell_type": "code",
   "execution_count": 30,
   "id": "29dcb8a3",
   "metadata": {},
   "outputs": [
    {
     "data": {
      "text/html": [
       "<div>\n",
       "<style scoped>\n",
       "    .dataframe tbody tr th:only-of-type {\n",
       "        vertical-align: middle;\n",
       "    }\n",
       "\n",
       "    .dataframe tbody tr th {\n",
       "        vertical-align: top;\n",
       "    }\n",
       "\n",
       "    .dataframe thead th {\n",
       "        text-align: right;\n",
       "    }\n",
       "</style>\n",
       "<table border=\"1\" class=\"dataframe\">\n",
       "  <thead>\n",
       "    <tr style=\"text-align: right;\">\n",
       "      <th></th>\n",
       "      <th>Month</th>\n",
       "      <th>Day</th>\n",
       "      <th>Year</th>\n",
       "      <th>Heart Attacks</th>\n",
       "      <th>Date</th>\n",
       "      <th>DayOfWeek</th>\n",
       "      <th>day</th>\n",
       "      <th>week</th>\n",
       "      <th>leapyear</th>\n",
       "    </tr>\n",
       "  </thead>\n",
       "  <tbody>\n",
       "    <tr>\n",
       "      <th>0</th>\n",
       "      <td>May</td>\n",
       "      <td>1,</td>\n",
       "      <td>2003</td>\n",
       "      <td>12</td>\n",
       "      <td>2003-05-01</td>\n",
       "      <td>3</td>\n",
       "      <td>1</td>\n",
       "      <td>18</td>\n",
       "      <td>False</td>\n",
       "    </tr>\n",
       "    <tr>\n",
       "      <th>1</th>\n",
       "      <td>May</td>\n",
       "      <td>2,</td>\n",
       "      <td>2003</td>\n",
       "      <td>12</td>\n",
       "      <td>2003-05-02</td>\n",
       "      <td>4</td>\n",
       "      <td>2</td>\n",
       "      <td>18</td>\n",
       "      <td>False</td>\n",
       "    </tr>\n",
       "    <tr>\n",
       "      <th>2</th>\n",
       "      <td>May</td>\n",
       "      <td>3,</td>\n",
       "      <td>2003</td>\n",
       "      <td>6</td>\n",
       "      <td>2003-05-03</td>\n",
       "      <td>5</td>\n",
       "      <td>3</td>\n",
       "      <td>18</td>\n",
       "      <td>False</td>\n",
       "    </tr>\n",
       "    <tr>\n",
       "      <th>3</th>\n",
       "      <td>May</td>\n",
       "      <td>4,</td>\n",
       "      <td>2003</td>\n",
       "      <td>16</td>\n",
       "      <td>2003-05-04</td>\n",
       "      <td>6</td>\n",
       "      <td>4</td>\n",
       "      <td>18</td>\n",
       "      <td>False</td>\n",
       "    </tr>\n",
       "    <tr>\n",
       "      <th>4</th>\n",
       "      <td>May</td>\n",
       "      <td>5,</td>\n",
       "      <td>2003</td>\n",
       "      <td>13</td>\n",
       "      <td>2003-05-05</td>\n",
       "      <td>0</td>\n",
       "      <td>5</td>\n",
       "      <td>19</td>\n",
       "      <td>False</td>\n",
       "    </tr>\n",
       "    <tr>\n",
       "      <th>...</th>\n",
       "      <td>...</td>\n",
       "      <td>...</td>\n",
       "      <td>...</td>\n",
       "      <td>...</td>\n",
       "      <td>...</td>\n",
       "      <td>...</td>\n",
       "      <td>...</td>\n",
       "      <td>...</td>\n",
       "      <td>...</td>\n",
       "    </tr>\n",
       "    <tr>\n",
       "      <th>86</th>\n",
       "      <td>July</td>\n",
       "      <td>26,</td>\n",
       "      <td>2003</td>\n",
       "      <td>17</td>\n",
       "      <td>2003-07-26</td>\n",
       "      <td>5</td>\n",
       "      <td>26</td>\n",
       "      <td>30</td>\n",
       "      <td>False</td>\n",
       "    </tr>\n",
       "    <tr>\n",
       "      <th>87</th>\n",
       "      <td>July</td>\n",
       "      <td>27,</td>\n",
       "      <td>2003</td>\n",
       "      <td>19</td>\n",
       "      <td>2003-07-27</td>\n",
       "      <td>6</td>\n",
       "      <td>27</td>\n",
       "      <td>30</td>\n",
       "      <td>False</td>\n",
       "    </tr>\n",
       "    <tr>\n",
       "      <th>88</th>\n",
       "      <td>July</td>\n",
       "      <td>28,</td>\n",
       "      <td>2003</td>\n",
       "      <td>27</td>\n",
       "      <td>2003-07-28</td>\n",
       "      <td>0</td>\n",
       "      <td>28</td>\n",
       "      <td>31</td>\n",
       "      <td>False</td>\n",
       "    </tr>\n",
       "    <tr>\n",
       "      <th>89</th>\n",
       "      <td>July</td>\n",
       "      <td>29,</td>\n",
       "      <td>2003</td>\n",
       "      <td>11</td>\n",
       "      <td>2003-07-29</td>\n",
       "      <td>1</td>\n",
       "      <td>29</td>\n",
       "      <td>31</td>\n",
       "      <td>False</td>\n",
       "    </tr>\n",
       "    <tr>\n",
       "      <th>90</th>\n",
       "      <td>July</td>\n",
       "      <td>30,</td>\n",
       "      <td>2003</td>\n",
       "      <td>18</td>\n",
       "      <td>2003-07-30</td>\n",
       "      <td>2</td>\n",
       "      <td>30</td>\n",
       "      <td>31</td>\n",
       "      <td>False</td>\n",
       "    </tr>\n",
       "  </tbody>\n",
       "</table>\n",
       "<p>91 rows × 9 columns</p>\n",
       "</div>"
      ],
      "text/plain": [
       "   Month  Day  Year  Heart Attacks       Date  DayOfWeek  day  week  leapyear\n",
       "0    May   1,  2003             12 2003-05-01          3    1    18     False\n",
       "1    May   2,  2003             12 2003-05-02          4    2    18     False\n",
       "2    May   3,  2003              6 2003-05-03          5    3    18     False\n",
       "3    May   4,  2003             16 2003-05-04          6    4    18     False\n",
       "4    May   5,  2003             13 2003-05-05          0    5    19     False\n",
       "..   ...  ...   ...            ...        ...        ...  ...   ...       ...\n",
       "86  July  26,  2003             17 2003-07-26          5   26    30     False\n",
       "87  July  27,  2003             19 2003-07-27          6   27    30     False\n",
       "88  July  28,  2003             27 2003-07-28          0   28    31     False\n",
       "89  July  29,  2003             11 2003-07-29          1   29    31     False\n",
       "90  July  30,  2003             18 2003-07-30          2   30    31     False\n",
       "\n",
       "[91 rows x 9 columns]"
      ]
     },
     "execution_count": 30,
     "metadata": {},
     "output_type": "execute_result"
    }
   ],
   "source": [
    "hearts"
   ]
  },
  {
   "cell_type": "code",
   "execution_count": 29,
   "id": "824fd800",
   "metadata": {},
   "outputs": [
    {
     "ename": "TypeError",
     "evalue": "Cannot convert input [Month                           July\nDay                               1,\nYear                            2003\nHeart Attacks                      5\nDate             2003-05-01 00:00:00\nDayOfWeek                          0\nday                                1\nweek                              18\nleapyear                       False\ndtype: object] of type <class 'pandas.core.series.Series'> to Timestamp",
     "output_type": "error",
     "traceback": [
      "\u001b[1;31m---------------------------------------------------------------------------\u001b[0m",
      "\u001b[1;31mTypeError\u001b[0m                                 Traceback (most recent call last)",
      "\u001b[1;32m<ipython-input-29-6bf2648cf340>\u001b[0m in \u001b[0;36m<module>\u001b[1;34m\u001b[0m\n\u001b[0;32m      1\u001b[0m \u001b[1;32mfrom\u001b[0m \u001b[0mpandas\u001b[0m\u001b[1;33m.\u001b[0m\u001b[0mtseries\u001b[0m\u001b[1;33m.\u001b[0m\u001b[0mholiday\u001b[0m \u001b[1;32mimport\u001b[0m \u001b[0mUSFederalHolidayCalendar\u001b[0m \u001b[1;32mas\u001b[0m \u001b[0mcalendar\u001b[0m\u001b[1;33m\u001b[0m\u001b[1;33m\u001b[0m\u001b[0m\n\u001b[0;32m      2\u001b[0m \u001b[0mcal\u001b[0m \u001b[1;33m=\u001b[0m \u001b[0mcalendar\u001b[0m\u001b[1;33m(\u001b[0m\u001b[1;33m)\u001b[0m\u001b[1;33m\u001b[0m\u001b[1;33m\u001b[0m\u001b[0m\n\u001b[1;32m----> 3\u001b[1;33m \u001b[0mholidays\u001b[0m \u001b[1;33m=\u001b[0m \u001b[0mcal\u001b[0m\u001b[1;33m.\u001b[0m\u001b[0mholidays\u001b[0m\u001b[1;33m(\u001b[0m\u001b[0mstart\u001b[0m\u001b[1;33m=\u001b[0m\u001b[0mhearts\u001b[0m\u001b[1;33m.\u001b[0m\u001b[0mmin\u001b[0m\u001b[1;33m(\u001b[0m\u001b[1;33m)\u001b[0m\u001b[1;33m,\u001b[0m \u001b[0mend\u001b[0m\u001b[1;33m=\u001b[0m\u001b[0mhearts\u001b[0m\u001b[1;33m.\u001b[0m\u001b[0mmax\u001b[0m\u001b[1;33m(\u001b[0m\u001b[1;33m)\u001b[0m\u001b[1;33m)\u001b[0m\u001b[1;33m\u001b[0m\u001b[1;33m\u001b[0m\u001b[0m\n\u001b[0m\u001b[0;32m      4\u001b[0m \u001b[0mhearts\u001b[0m\u001b[1;33m[\u001b[0m\u001b[1;34m'Holiday'\u001b[0m\u001b[1;33m]\u001b[0m \u001b[1;33m=\u001b[0m \u001b[0mhearts\u001b[0m\u001b[1;33m[\u001b[0m\u001b[1;34m'Date'\u001b[0m\u001b[1;33m]\u001b[0m\u001b[1;33m.\u001b[0m\u001b[0misin\u001b[0m\u001b[1;33m(\u001b[0m\u001b[0mholidays\u001b[0m\u001b[1;33m)\u001b[0m\u001b[1;33m\u001b[0m\u001b[1;33m\u001b[0m\u001b[0m\n",
      "\u001b[1;32m~\\anaconda3\\lib\\site-packages\\pandas\\tseries\\holiday.py\u001b[0m in \u001b[0;36mholidays\u001b[1;34m(self, start, end, return_name)\u001b[0m\n\u001b[0;32m    423\u001b[0m             \u001b[0mend\u001b[0m \u001b[1;33m=\u001b[0m \u001b[0mAbstractHolidayCalendar\u001b[0m\u001b[1;33m.\u001b[0m\u001b[0mend_date\u001b[0m\u001b[1;33m\u001b[0m\u001b[1;33m\u001b[0m\u001b[0m\n\u001b[0;32m    424\u001b[0m \u001b[1;33m\u001b[0m\u001b[0m\n\u001b[1;32m--> 425\u001b[1;33m         \u001b[0mstart\u001b[0m \u001b[1;33m=\u001b[0m \u001b[0mTimestamp\u001b[0m\u001b[1;33m(\u001b[0m\u001b[0mstart\u001b[0m\u001b[1;33m)\u001b[0m\u001b[1;33m\u001b[0m\u001b[1;33m\u001b[0m\u001b[0m\n\u001b[0m\u001b[0;32m    426\u001b[0m         \u001b[0mend\u001b[0m \u001b[1;33m=\u001b[0m \u001b[0mTimestamp\u001b[0m\u001b[1;33m(\u001b[0m\u001b[0mend\u001b[0m\u001b[1;33m)\u001b[0m\u001b[1;33m\u001b[0m\u001b[1;33m\u001b[0m\u001b[0m\n\u001b[0;32m    427\u001b[0m \u001b[1;33m\u001b[0m\u001b[0m\n",
      "\u001b[1;32mpandas\\_libs\\tslibs\\timestamps.pyx\u001b[0m in \u001b[0;36mpandas._libs.tslibs.timestamps.Timestamp.__new__\u001b[1;34m()\u001b[0m\n",
      "\u001b[1;32mpandas\\_libs\\tslibs\\conversion.pyx\u001b[0m in \u001b[0;36mpandas._libs.tslibs.conversion.convert_to_tsobject\u001b[1;34m()\u001b[0m\n",
      "\u001b[1;31mTypeError\u001b[0m: Cannot convert input [Month                           July\nDay                               1,\nYear                            2003\nHeart Attacks                      5\nDate             2003-05-01 00:00:00\nDayOfWeek                          0\nday                                1\nweek                              18\nleapyear                       False\ndtype: object] of type <class 'pandas.core.series.Series'> to Timestamp"
     ]
    }
   ],
   "source": [
    "from pandas.tseries.holiday import USFederalHolidayCalendar as calendar\n",
    "cal = calendar()\n",
    "holidays = cal.holidays(start=hearts.min(), end=hearts.max())\n",
    "hearts['Holiday'] = hearts['Date'].isin(holidays)"
   ]
  },
  {
   "cell_type": "code",
   "execution_count": null,
   "id": "38f1b87f",
   "metadata": {},
   "outputs": [],
   "source": []
  }
 ],
 "metadata": {
  "kernelspec": {
   "display_name": "Python 3 (ipykernel)",
   "language": "python",
   "name": "python3"
  },
  "language_info": {
   "codemirror_mode": {
    "name": "ipython",
    "version": 3
   },
   "file_extension": ".py",
   "mimetype": "text/x-python",
   "name": "python",
   "nbconvert_exporter": "python",
   "pygments_lexer": "ipython3",
   "version": "3.10.4"
  }
 },
 "nbformat": 4,
 "nbformat_minor": 5
}
